{
  "cells": [
    {
      "cell_type": "markdown",
      "metadata": {
        "id": "view-in-github",
        "colab_type": "text"
      },
      "source": [
        "<a href=\"https://colab.research.google.com/github/malavikasubramanian/classify-pv-faults-using-ml/blob/main/ModelComparision.ipynb\" target=\"_parent\"><img src=\"https://colab.research.google.com/assets/colab-badge.svg\" alt=\"Open In Colab\"/></a>"
      ]
    },
    {
      "cell_type": "code",
      "execution_count": null,
      "metadata": {
        "id": "j1v-f3f0tEDt"
      },
      "outputs": [],
      "source": [
        "#Importing necessary Libraries\n",
        "\n",
        "import numpy as np\n",
        "import pandas as pd\n",
        "from sklearn.model_selection import train_test_split, GridSearchCV\n",
        "\n",
        "from sklearn.svm import SVC # SVM\n",
        "from sklearn.tree import DecisionTreeClassifier # Decision Tree\n",
        "from sklearn.neighbors import KNeighborsClassifier # KNN\n",
        "from sklearn.ensemble import RandomForestClassifier #Random Forest\n",
        "\n",
        "from sklearn.metrics import accuracy_score\n",
        "\n",
        "import matplotlib.pyplot as plt\n",
        "\n",
        "import warnings\n",
        "warnings.filterwarnings(\"ignore\")"
      ]
    },
    {
      "cell_type": "code",
      "execution_count": null,
      "metadata": {
        "id": "GvRpspdVtED8",
        "scrolled": true,
        "colab": {
          "base_uri": "https://localhost:8080/"
        },
        "outputId": "8f6cc8e5-4d50-4204-be8f-ede20526e478"
      },
      "outputs": [
        {
          "name": "stdout",
          "output_type": "stream",
          "text": [
            "Dataset file location: /content/temp.csv\n"
          ]
        }
      ],
      "source": [
        "# Directory for Dataset\n",
        "filename = input('Dataset file location: ')\n",
        "ds = pd.read_csv(filename)"
      ]
    },
    {
      "cell_type": "code",
      "execution_count": null,
      "metadata": {
        "id": "JKjsPVg8tED_",
        "outputId": "506366ca-2253-4d91-9260-9b503ea4a6e2",
        "colab": {
          "base_uri": "https://localhost:8080/",
          "height": 520
        }
      },
      "outputs": [
        {
          "output_type": "execute_result",
          "data": {
            "text/plain": [
              "    N_Ser  N_Par  Irradiation  Temperature  Current  Voltage  Label  \\\n",
              "0       4      3          100           10     1.86     14.9      1   \n",
              "1       4      3          100           15     1.86     14.9      1   \n",
              "2       4      3          100           20     1.86     14.9      1   \n",
              "3       4      3          100           25     1.86     14.9      1   \n",
              "4       4      3          100           30     1.86     14.9      1   \n",
              "5       4      3          100           35     1.86     14.9      1   \n",
              "6       4      3          100           40     1.86     14.9      1   \n",
              "7       4      3          100           45     1.87     14.9      1   \n",
              "8       4      3          100           50     1.87     14.9      1   \n",
              "9       4      3          100           55     1.87     14.9      1   \n",
              "10      4      3          100           60     1.87     15.0      1   \n",
              "11      4      3          150           10     2.78     22.3      1   \n",
              "12      4      3          150           15     2.79     22.3      1   \n",
              "13      4      3          150           20     2.79     22.3      1   \n",
              "14      4      3          150           25     2.79     22.3      1   \n",
              "\n",
              "    Current_raw   Voltage_raw  \n",
              "0           1.86         14.9  \n",
              "1           1.86         14.9  \n",
              "2           1.86         14.9  \n",
              "3           1.86         14.9  \n",
              "4           1.86         14.9  \n",
              "5           1.86         14.9  \n",
              "6           1.86         14.9  \n",
              "7           1.87         14.9  \n",
              "8           1.87         14.9  \n",
              "9           1.87         14.9  \n",
              "10          1.87         15.0  \n",
              "11          2.78         22.3  \n",
              "12          2.79         22.3  \n",
              "13          2.79         22.3  \n",
              "14          2.79         22.3  "
            ],
            "text/html": [
              "\n",
              "  <div id=\"df-eeb93463-8262-42f4-9828-4f5ef1e9a125\">\n",
              "    <div class=\"colab-df-container\">\n",
              "      <div>\n",
              "<style scoped>\n",
              "    .dataframe tbody tr th:only-of-type {\n",
              "        vertical-align: middle;\n",
              "    }\n",
              "\n",
              "    .dataframe tbody tr th {\n",
              "        vertical-align: top;\n",
              "    }\n",
              "\n",
              "    .dataframe thead th {\n",
              "        text-align: right;\n",
              "    }\n",
              "</style>\n",
              "<table border=\"1\" class=\"dataframe\">\n",
              "  <thead>\n",
              "    <tr style=\"text-align: right;\">\n",
              "      <th></th>\n",
              "      <th>N_Ser</th>\n",
              "      <th>N_Par</th>\n",
              "      <th>Irradiation</th>\n",
              "      <th>Temperature</th>\n",
              "      <th>Current</th>\n",
              "      <th>Voltage</th>\n",
              "      <th>Label</th>\n",
              "      <th>Current_raw</th>\n",
              "      <th>Voltage_raw</th>\n",
              "    </tr>\n",
              "  </thead>\n",
              "  <tbody>\n",
              "    <tr>\n",
              "      <th>0</th>\n",
              "      <td>4</td>\n",
              "      <td>3</td>\n",
              "      <td>100</td>\n",
              "      <td>10</td>\n",
              "      <td>1.86</td>\n",
              "      <td>14.9</td>\n",
              "      <td>1</td>\n",
              "      <td>1.86</td>\n",
              "      <td>14.9</td>\n",
              "    </tr>\n",
              "    <tr>\n",
              "      <th>1</th>\n",
              "      <td>4</td>\n",
              "      <td>3</td>\n",
              "      <td>100</td>\n",
              "      <td>15</td>\n",
              "      <td>1.86</td>\n",
              "      <td>14.9</td>\n",
              "      <td>1</td>\n",
              "      <td>1.86</td>\n",
              "      <td>14.9</td>\n",
              "    </tr>\n",
              "    <tr>\n",
              "      <th>2</th>\n",
              "      <td>4</td>\n",
              "      <td>3</td>\n",
              "      <td>100</td>\n",
              "      <td>20</td>\n",
              "      <td>1.86</td>\n",
              "      <td>14.9</td>\n",
              "      <td>1</td>\n",
              "      <td>1.86</td>\n",
              "      <td>14.9</td>\n",
              "    </tr>\n",
              "    <tr>\n",
              "      <th>3</th>\n",
              "      <td>4</td>\n",
              "      <td>3</td>\n",
              "      <td>100</td>\n",
              "      <td>25</td>\n",
              "      <td>1.86</td>\n",
              "      <td>14.9</td>\n",
              "      <td>1</td>\n",
              "      <td>1.86</td>\n",
              "      <td>14.9</td>\n",
              "    </tr>\n",
              "    <tr>\n",
              "      <th>4</th>\n",
              "      <td>4</td>\n",
              "      <td>3</td>\n",
              "      <td>100</td>\n",
              "      <td>30</td>\n",
              "      <td>1.86</td>\n",
              "      <td>14.9</td>\n",
              "      <td>1</td>\n",
              "      <td>1.86</td>\n",
              "      <td>14.9</td>\n",
              "    </tr>\n",
              "    <tr>\n",
              "      <th>5</th>\n",
              "      <td>4</td>\n",
              "      <td>3</td>\n",
              "      <td>100</td>\n",
              "      <td>35</td>\n",
              "      <td>1.86</td>\n",
              "      <td>14.9</td>\n",
              "      <td>1</td>\n",
              "      <td>1.86</td>\n",
              "      <td>14.9</td>\n",
              "    </tr>\n",
              "    <tr>\n",
              "      <th>6</th>\n",
              "      <td>4</td>\n",
              "      <td>3</td>\n",
              "      <td>100</td>\n",
              "      <td>40</td>\n",
              "      <td>1.86</td>\n",
              "      <td>14.9</td>\n",
              "      <td>1</td>\n",
              "      <td>1.86</td>\n",
              "      <td>14.9</td>\n",
              "    </tr>\n",
              "    <tr>\n",
              "      <th>7</th>\n",
              "      <td>4</td>\n",
              "      <td>3</td>\n",
              "      <td>100</td>\n",
              "      <td>45</td>\n",
              "      <td>1.87</td>\n",
              "      <td>14.9</td>\n",
              "      <td>1</td>\n",
              "      <td>1.87</td>\n",
              "      <td>14.9</td>\n",
              "    </tr>\n",
              "    <tr>\n",
              "      <th>8</th>\n",
              "      <td>4</td>\n",
              "      <td>3</td>\n",
              "      <td>100</td>\n",
              "      <td>50</td>\n",
              "      <td>1.87</td>\n",
              "      <td>14.9</td>\n",
              "      <td>1</td>\n",
              "      <td>1.87</td>\n",
              "      <td>14.9</td>\n",
              "    </tr>\n",
              "    <tr>\n",
              "      <th>9</th>\n",
              "      <td>4</td>\n",
              "      <td>3</td>\n",
              "      <td>100</td>\n",
              "      <td>55</td>\n",
              "      <td>1.87</td>\n",
              "      <td>14.9</td>\n",
              "      <td>1</td>\n",
              "      <td>1.87</td>\n",
              "      <td>14.9</td>\n",
              "    </tr>\n",
              "    <tr>\n",
              "      <th>10</th>\n",
              "      <td>4</td>\n",
              "      <td>3</td>\n",
              "      <td>100</td>\n",
              "      <td>60</td>\n",
              "      <td>1.87</td>\n",
              "      <td>15.0</td>\n",
              "      <td>1</td>\n",
              "      <td>1.87</td>\n",
              "      <td>15.0</td>\n",
              "    </tr>\n",
              "    <tr>\n",
              "      <th>11</th>\n",
              "      <td>4</td>\n",
              "      <td>3</td>\n",
              "      <td>150</td>\n",
              "      <td>10</td>\n",
              "      <td>2.78</td>\n",
              "      <td>22.3</td>\n",
              "      <td>1</td>\n",
              "      <td>2.78</td>\n",
              "      <td>22.3</td>\n",
              "    </tr>\n",
              "    <tr>\n",
              "      <th>12</th>\n",
              "      <td>4</td>\n",
              "      <td>3</td>\n",
              "      <td>150</td>\n",
              "      <td>15</td>\n",
              "      <td>2.79</td>\n",
              "      <td>22.3</td>\n",
              "      <td>1</td>\n",
              "      <td>2.79</td>\n",
              "      <td>22.3</td>\n",
              "    </tr>\n",
              "    <tr>\n",
              "      <th>13</th>\n",
              "      <td>4</td>\n",
              "      <td>3</td>\n",
              "      <td>150</td>\n",
              "      <td>20</td>\n",
              "      <td>2.79</td>\n",
              "      <td>22.3</td>\n",
              "      <td>1</td>\n",
              "      <td>2.79</td>\n",
              "      <td>22.3</td>\n",
              "    </tr>\n",
              "    <tr>\n",
              "      <th>14</th>\n",
              "      <td>4</td>\n",
              "      <td>3</td>\n",
              "      <td>150</td>\n",
              "      <td>25</td>\n",
              "      <td>2.79</td>\n",
              "      <td>22.3</td>\n",
              "      <td>1</td>\n",
              "      <td>2.79</td>\n",
              "      <td>22.3</td>\n",
              "    </tr>\n",
              "  </tbody>\n",
              "</table>\n",
              "</div>\n",
              "      <button class=\"colab-df-convert\" onclick=\"convertToInteractive('df-eeb93463-8262-42f4-9828-4f5ef1e9a125')\"\n",
              "              title=\"Convert this dataframe to an interactive table.\"\n",
              "              style=\"display:none;\">\n",
              "        \n",
              "  <svg xmlns=\"http://www.w3.org/2000/svg\" height=\"24px\"viewBox=\"0 0 24 24\"\n",
              "       width=\"24px\">\n",
              "    <path d=\"M0 0h24v24H0V0z\" fill=\"none\"/>\n",
              "    <path d=\"M18.56 5.44l.94 2.06.94-2.06 2.06-.94-2.06-.94-.94-2.06-.94 2.06-2.06.94zm-11 1L8.5 8.5l.94-2.06 2.06-.94-2.06-.94L8.5 2.5l-.94 2.06-2.06.94zm10 10l.94 2.06.94-2.06 2.06-.94-2.06-.94-.94-2.06-.94 2.06-2.06.94z\"/><path d=\"M17.41 7.96l-1.37-1.37c-.4-.4-.92-.59-1.43-.59-.52 0-1.04.2-1.43.59L10.3 9.45l-7.72 7.72c-.78.78-.78 2.05 0 2.83L4 21.41c.39.39.9.59 1.41.59.51 0 1.02-.2 1.41-.59l7.78-7.78 2.81-2.81c.8-.78.8-2.07 0-2.86zM5.41 20L4 18.59l7.72-7.72 1.47 1.35L5.41 20z\"/>\n",
              "  </svg>\n",
              "      </button>\n",
              "      \n",
              "  <style>\n",
              "    .colab-df-container {\n",
              "      display:flex;\n",
              "      flex-wrap:wrap;\n",
              "      gap: 12px;\n",
              "    }\n",
              "\n",
              "    .colab-df-convert {\n",
              "      background-color: #E8F0FE;\n",
              "      border: none;\n",
              "      border-radius: 50%;\n",
              "      cursor: pointer;\n",
              "      display: none;\n",
              "      fill: #1967D2;\n",
              "      height: 32px;\n",
              "      padding: 0 0 0 0;\n",
              "      width: 32px;\n",
              "    }\n",
              "\n",
              "    .colab-df-convert:hover {\n",
              "      background-color: #E2EBFA;\n",
              "      box-shadow: 0px 1px 2px rgba(60, 64, 67, 0.3), 0px 1px 3px 1px rgba(60, 64, 67, 0.15);\n",
              "      fill: #174EA6;\n",
              "    }\n",
              "\n",
              "    [theme=dark] .colab-df-convert {\n",
              "      background-color: #3B4455;\n",
              "      fill: #D2E3FC;\n",
              "    }\n",
              "\n",
              "    [theme=dark] .colab-df-convert:hover {\n",
              "      background-color: #434B5C;\n",
              "      box-shadow: 0px 1px 3px 1px rgba(0, 0, 0, 0.15);\n",
              "      filter: drop-shadow(0px 1px 2px rgba(0, 0, 0, 0.3));\n",
              "      fill: #FFFFFF;\n",
              "    }\n",
              "  </style>\n",
              "\n",
              "      <script>\n",
              "        const buttonEl =\n",
              "          document.querySelector('#df-eeb93463-8262-42f4-9828-4f5ef1e9a125 button.colab-df-convert');\n",
              "        buttonEl.style.display =\n",
              "          google.colab.kernel.accessAllowed ? 'block' : 'none';\n",
              "\n",
              "        async function convertToInteractive(key) {\n",
              "          const element = document.querySelector('#df-eeb93463-8262-42f4-9828-4f5ef1e9a125');\n",
              "          const dataTable =\n",
              "            await google.colab.kernel.invokeFunction('convertToInteractive',\n",
              "                                                     [key], {});\n",
              "          if (!dataTable) return;\n",
              "\n",
              "          const docLinkHtml = 'Like what you see? Visit the ' +\n",
              "            '<a target=\"_blank\" href=https://colab.research.google.com/notebooks/data_table.ipynb>data table notebook</a>'\n",
              "            + ' to learn more about interactive tables.';\n",
              "          element.innerHTML = '';\n",
              "          dataTable['output_type'] = 'display_data';\n",
              "          await google.colab.output.renderOutput(dataTable, element);\n",
              "          const docLink = document.createElement('div');\n",
              "          docLink.innerHTML = docLinkHtml;\n",
              "          element.appendChild(docLink);\n",
              "        }\n",
              "      </script>\n",
              "    </div>\n",
              "  </div>\n",
              "  "
            ]
          },
          "metadata": {},
          "execution_count": 3
        }
      ],
      "source": [
        "ds.head(15)"
      ]
    },
    {
      "cell_type": "code",
      "execution_count": null,
      "metadata": {
        "id": "AQIAvryQtEEC",
        "outputId": "a9e96d53-bc91-4087-bc6a-bfa87aec1ae6",
        "colab": {
          "base_uri": "https://localhost:8080/",
          "height": 520
        }
      },
      "outputs": [
        {
          "output_type": "execute_result",
          "data": {
            "text/plain": [
              "      N_Ser  N_Par  Irradiation  Temperature   Current   Voltage  Label  \\\n",
              "1305      4      3         1200           45  14.77694  118.2155      3   \n",
              "1306      4      3         1200           50  14.78399  118.2719      3   \n",
              "1307      4      3         1200           55  14.78987  118.3189      3   \n",
              "1308      4      3         1200           60  14.79396  118.3517      3   \n",
              "1309      4      3         1250           10  15.32064  122.5651      3   \n",
              "1310      4      3         1250           15  15.32998  122.6398      3   \n",
              "1311      4      3         1250           20  15.33924  122.7139      3   \n",
              "1312      4      3         1250           25  15.34837  122.7870      3   \n",
              "1313      4      3         1250           30  15.35727  122.8582      3   \n",
              "1314      4      3         1250           35  15.36582  122.9265      3   \n",
              "1315      4      3         1250           40  15.37378  122.9902      3   \n",
              "1316      4      3         1250           45  15.38083  123.0467      3   \n",
              "1317      4      3         1250           50  15.38648  123.0918      3   \n",
              "1318      4      3         1250           55  15.38998  123.1198      3   \n",
              "1319      4      3         1250           60  15.39029  123.1223      3   \n",
              "\n",
              "      Current_raw   Voltage_raw  \n",
              "1305          14.8        118.0  \n",
              "1306          14.8        118.0  \n",
              "1307          14.8        118.0  \n",
              "1308          14.8        118.0  \n",
              "1309          15.3        123.0  \n",
              "1310          15.3        123.0  \n",
              "1311          15.3        123.0  \n",
              "1312          15.3        123.0  \n",
              "1313          15.4        123.0  \n",
              "1314          15.4        123.0  \n",
              "1315          15.4        123.0  \n",
              "1316          15.4        123.0  \n",
              "1317          15.4        123.0  \n",
              "1318          15.4        123.0  \n",
              "1319          15.4        123.0  "
            ],
            "text/html": [
              "\n",
              "  <div id=\"df-3317185b-68c3-415f-9f01-24a46cf72afe\">\n",
              "    <div class=\"colab-df-container\">\n",
              "      <div>\n",
              "<style scoped>\n",
              "    .dataframe tbody tr th:only-of-type {\n",
              "        vertical-align: middle;\n",
              "    }\n",
              "\n",
              "    .dataframe tbody tr th {\n",
              "        vertical-align: top;\n",
              "    }\n",
              "\n",
              "    .dataframe thead th {\n",
              "        text-align: right;\n",
              "    }\n",
              "</style>\n",
              "<table border=\"1\" class=\"dataframe\">\n",
              "  <thead>\n",
              "    <tr style=\"text-align: right;\">\n",
              "      <th></th>\n",
              "      <th>N_Ser</th>\n",
              "      <th>N_Par</th>\n",
              "      <th>Irradiation</th>\n",
              "      <th>Temperature</th>\n",
              "      <th>Current</th>\n",
              "      <th>Voltage</th>\n",
              "      <th>Label</th>\n",
              "      <th>Current_raw</th>\n",
              "      <th>Voltage_raw</th>\n",
              "    </tr>\n",
              "  </thead>\n",
              "  <tbody>\n",
              "    <tr>\n",
              "      <th>1305</th>\n",
              "      <td>4</td>\n",
              "      <td>3</td>\n",
              "      <td>1200</td>\n",
              "      <td>45</td>\n",
              "      <td>14.77694</td>\n",
              "      <td>118.2155</td>\n",
              "      <td>3</td>\n",
              "      <td>14.8</td>\n",
              "      <td>118.0</td>\n",
              "    </tr>\n",
              "    <tr>\n",
              "      <th>1306</th>\n",
              "      <td>4</td>\n",
              "      <td>3</td>\n",
              "      <td>1200</td>\n",
              "      <td>50</td>\n",
              "      <td>14.78399</td>\n",
              "      <td>118.2719</td>\n",
              "      <td>3</td>\n",
              "      <td>14.8</td>\n",
              "      <td>118.0</td>\n",
              "    </tr>\n",
              "    <tr>\n",
              "      <th>1307</th>\n",
              "      <td>4</td>\n",
              "      <td>3</td>\n",
              "      <td>1200</td>\n",
              "      <td>55</td>\n",
              "      <td>14.78987</td>\n",
              "      <td>118.3189</td>\n",
              "      <td>3</td>\n",
              "      <td>14.8</td>\n",
              "      <td>118.0</td>\n",
              "    </tr>\n",
              "    <tr>\n",
              "      <th>1308</th>\n",
              "      <td>4</td>\n",
              "      <td>3</td>\n",
              "      <td>1200</td>\n",
              "      <td>60</td>\n",
              "      <td>14.79396</td>\n",
              "      <td>118.3517</td>\n",
              "      <td>3</td>\n",
              "      <td>14.8</td>\n",
              "      <td>118.0</td>\n",
              "    </tr>\n",
              "    <tr>\n",
              "      <th>1309</th>\n",
              "      <td>4</td>\n",
              "      <td>3</td>\n",
              "      <td>1250</td>\n",
              "      <td>10</td>\n",
              "      <td>15.32064</td>\n",
              "      <td>122.5651</td>\n",
              "      <td>3</td>\n",
              "      <td>15.3</td>\n",
              "      <td>123.0</td>\n",
              "    </tr>\n",
              "    <tr>\n",
              "      <th>1310</th>\n",
              "      <td>4</td>\n",
              "      <td>3</td>\n",
              "      <td>1250</td>\n",
              "      <td>15</td>\n",
              "      <td>15.32998</td>\n",
              "      <td>122.6398</td>\n",
              "      <td>3</td>\n",
              "      <td>15.3</td>\n",
              "      <td>123.0</td>\n",
              "    </tr>\n",
              "    <tr>\n",
              "      <th>1311</th>\n",
              "      <td>4</td>\n",
              "      <td>3</td>\n",
              "      <td>1250</td>\n",
              "      <td>20</td>\n",
              "      <td>15.33924</td>\n",
              "      <td>122.7139</td>\n",
              "      <td>3</td>\n",
              "      <td>15.3</td>\n",
              "      <td>123.0</td>\n",
              "    </tr>\n",
              "    <tr>\n",
              "      <th>1312</th>\n",
              "      <td>4</td>\n",
              "      <td>3</td>\n",
              "      <td>1250</td>\n",
              "      <td>25</td>\n",
              "      <td>15.34837</td>\n",
              "      <td>122.7870</td>\n",
              "      <td>3</td>\n",
              "      <td>15.3</td>\n",
              "      <td>123.0</td>\n",
              "    </tr>\n",
              "    <tr>\n",
              "      <th>1313</th>\n",
              "      <td>4</td>\n",
              "      <td>3</td>\n",
              "      <td>1250</td>\n",
              "      <td>30</td>\n",
              "      <td>15.35727</td>\n",
              "      <td>122.8582</td>\n",
              "      <td>3</td>\n",
              "      <td>15.4</td>\n",
              "      <td>123.0</td>\n",
              "    </tr>\n",
              "    <tr>\n",
              "      <th>1314</th>\n",
              "      <td>4</td>\n",
              "      <td>3</td>\n",
              "      <td>1250</td>\n",
              "      <td>35</td>\n",
              "      <td>15.36582</td>\n",
              "      <td>122.9265</td>\n",
              "      <td>3</td>\n",
              "      <td>15.4</td>\n",
              "      <td>123.0</td>\n",
              "    </tr>\n",
              "    <tr>\n",
              "      <th>1315</th>\n",
              "      <td>4</td>\n",
              "      <td>3</td>\n",
              "      <td>1250</td>\n",
              "      <td>40</td>\n",
              "      <td>15.37378</td>\n",
              "      <td>122.9902</td>\n",
              "      <td>3</td>\n",
              "      <td>15.4</td>\n",
              "      <td>123.0</td>\n",
              "    </tr>\n",
              "    <tr>\n",
              "      <th>1316</th>\n",
              "      <td>4</td>\n",
              "      <td>3</td>\n",
              "      <td>1250</td>\n",
              "      <td>45</td>\n",
              "      <td>15.38083</td>\n",
              "      <td>123.0467</td>\n",
              "      <td>3</td>\n",
              "      <td>15.4</td>\n",
              "      <td>123.0</td>\n",
              "    </tr>\n",
              "    <tr>\n",
              "      <th>1317</th>\n",
              "      <td>4</td>\n",
              "      <td>3</td>\n",
              "      <td>1250</td>\n",
              "      <td>50</td>\n",
              "      <td>15.38648</td>\n",
              "      <td>123.0918</td>\n",
              "      <td>3</td>\n",
              "      <td>15.4</td>\n",
              "      <td>123.0</td>\n",
              "    </tr>\n",
              "    <tr>\n",
              "      <th>1318</th>\n",
              "      <td>4</td>\n",
              "      <td>3</td>\n",
              "      <td>1250</td>\n",
              "      <td>55</td>\n",
              "      <td>15.38998</td>\n",
              "      <td>123.1198</td>\n",
              "      <td>3</td>\n",
              "      <td>15.4</td>\n",
              "      <td>123.0</td>\n",
              "    </tr>\n",
              "    <tr>\n",
              "      <th>1319</th>\n",
              "      <td>4</td>\n",
              "      <td>3</td>\n",
              "      <td>1250</td>\n",
              "      <td>60</td>\n",
              "      <td>15.39029</td>\n",
              "      <td>123.1223</td>\n",
              "      <td>3</td>\n",
              "      <td>15.4</td>\n",
              "      <td>123.0</td>\n",
              "    </tr>\n",
              "  </tbody>\n",
              "</table>\n",
              "</div>\n",
              "      <button class=\"colab-df-convert\" onclick=\"convertToInteractive('df-3317185b-68c3-415f-9f01-24a46cf72afe')\"\n",
              "              title=\"Convert this dataframe to an interactive table.\"\n",
              "              style=\"display:none;\">\n",
              "        \n",
              "  <svg xmlns=\"http://www.w3.org/2000/svg\" height=\"24px\"viewBox=\"0 0 24 24\"\n",
              "       width=\"24px\">\n",
              "    <path d=\"M0 0h24v24H0V0z\" fill=\"none\"/>\n",
              "    <path d=\"M18.56 5.44l.94 2.06.94-2.06 2.06-.94-2.06-.94-.94-2.06-.94 2.06-2.06.94zm-11 1L8.5 8.5l.94-2.06 2.06-.94-2.06-.94L8.5 2.5l-.94 2.06-2.06.94zm10 10l.94 2.06.94-2.06 2.06-.94-2.06-.94-.94-2.06-.94 2.06-2.06.94z\"/><path d=\"M17.41 7.96l-1.37-1.37c-.4-.4-.92-.59-1.43-.59-.52 0-1.04.2-1.43.59L10.3 9.45l-7.72 7.72c-.78.78-.78 2.05 0 2.83L4 21.41c.39.39.9.59 1.41.59.51 0 1.02-.2 1.41-.59l7.78-7.78 2.81-2.81c.8-.78.8-2.07 0-2.86zM5.41 20L4 18.59l7.72-7.72 1.47 1.35L5.41 20z\"/>\n",
              "  </svg>\n",
              "      </button>\n",
              "      \n",
              "  <style>\n",
              "    .colab-df-container {\n",
              "      display:flex;\n",
              "      flex-wrap:wrap;\n",
              "      gap: 12px;\n",
              "    }\n",
              "\n",
              "    .colab-df-convert {\n",
              "      background-color: #E8F0FE;\n",
              "      border: none;\n",
              "      border-radius: 50%;\n",
              "      cursor: pointer;\n",
              "      display: none;\n",
              "      fill: #1967D2;\n",
              "      height: 32px;\n",
              "      padding: 0 0 0 0;\n",
              "      width: 32px;\n",
              "    }\n",
              "\n",
              "    .colab-df-convert:hover {\n",
              "      background-color: #E2EBFA;\n",
              "      box-shadow: 0px 1px 2px rgba(60, 64, 67, 0.3), 0px 1px 3px 1px rgba(60, 64, 67, 0.15);\n",
              "      fill: #174EA6;\n",
              "    }\n",
              "\n",
              "    [theme=dark] .colab-df-convert {\n",
              "      background-color: #3B4455;\n",
              "      fill: #D2E3FC;\n",
              "    }\n",
              "\n",
              "    [theme=dark] .colab-df-convert:hover {\n",
              "      background-color: #434B5C;\n",
              "      box-shadow: 0px 1px 3px 1px rgba(0, 0, 0, 0.15);\n",
              "      filter: drop-shadow(0px 1px 2px rgba(0, 0, 0, 0.3));\n",
              "      fill: #FFFFFF;\n",
              "    }\n",
              "  </style>\n",
              "\n",
              "      <script>\n",
              "        const buttonEl =\n",
              "          document.querySelector('#df-3317185b-68c3-415f-9f01-24a46cf72afe button.colab-df-convert');\n",
              "        buttonEl.style.display =\n",
              "          google.colab.kernel.accessAllowed ? 'block' : 'none';\n",
              "\n",
              "        async function convertToInteractive(key) {\n",
              "          const element = document.querySelector('#df-3317185b-68c3-415f-9f01-24a46cf72afe');\n",
              "          const dataTable =\n",
              "            await google.colab.kernel.invokeFunction('convertToInteractive',\n",
              "                                                     [key], {});\n",
              "          if (!dataTable) return;\n",
              "\n",
              "          const docLinkHtml = 'Like what you see? Visit the ' +\n",
              "            '<a target=\"_blank\" href=https://colab.research.google.com/notebooks/data_table.ipynb>data table notebook</a>'\n",
              "            + ' to learn more about interactive tables.';\n",
              "          element.innerHTML = '';\n",
              "          dataTable['output_type'] = 'display_data';\n",
              "          await google.colab.output.renderOutput(dataTable, element);\n",
              "          const docLink = document.createElement('div');\n",
              "          docLink.innerHTML = docLinkHtml;\n",
              "          element.appendChild(docLink);\n",
              "        }\n",
              "      </script>\n",
              "    </div>\n",
              "  </div>\n",
              "  "
            ]
          },
          "metadata": {},
          "execution_count": 4
        }
      ],
      "source": [
        "ds.tail(15)"
      ]
    },
    {
      "cell_type": "code",
      "execution_count": null,
      "metadata": {
        "id": "WIo9XEmwtEEE"
      },
      "outputs": [],
      "source": [
        "predict_result={1:\"Normal\",\n",
        "                2:\"Open Circuit\",\n",
        "                3:\"Short Circuit\"}"
      ]
    },
    {
      "cell_type": "code",
      "execution_count": null,
      "metadata": {
        "id": "2syV1h3ktEEF",
        "outputId": "183fedc5-17f1-490c-d363-1915471cc2f0",
        "colab": {
          "base_uri": "https://localhost:8080/"
        }
      },
      "outputs": [
        {
          "output_type": "execute_result",
          "data": {
            "text/plain": [
              "(1320, 9)"
            ]
          },
          "metadata": {},
          "execution_count": 6
        }
      ],
      "source": [
        "ds.shape"
      ]
    },
    {
      "cell_type": "code",
      "execution_count": null,
      "metadata": {
        "id": "lr1Ts5RgtEEI"
      },
      "outputs": [],
      "source": [
        "#Assigning the features and target Values\n",
        "X = ds.values[:, :6]\n",
        "Y = ds.values[:, 6]"
      ]
    },
    {
      "cell_type": "code",
      "execution_count": null,
      "metadata": {
        "id": "wiFfOdiZtEEK",
        "outputId": "70e0c013-d7e4-4d26-b3d7-dc460f3bbd6b",
        "colab": {
          "base_uri": "https://localhost:8080/"
        }
      },
      "outputs": [
        {
          "output_type": "stream",
          "name": "stdout",
          "text": [
            "(1320, 6)\n"
          ]
        }
      ],
      "source": [
        "print(X.shape)"
      ]
    },
    {
      "cell_type": "code",
      "source": [
        "def show_plot(N_ser, N_par, Irradiance):\n",
        "  Filter = ds[(ds['N_Ser']==N_ser) & (ds['N_Par']==N_par) & (ds['Irradiation']==Irradiance)]\n",
        "  fig = plt.figure(figsize=[8,8])\n",
        "  ax = fig.add_subplot(111, projection='3d', title=f\"Irradiance at {Irradiance} in {N_ser}x{N_par}\",\n",
        "                      xlabel=\"Impp (A)\", ylabel=\"Vmpp (V)\", zlabel=\"Temperature\")\n",
        "\n",
        "  for s in Filter['Label'].unique():\n",
        "      ax.scatter(Filter.Current[Filter['Label']==s],\n",
        "                Filter.Voltage[Filter['Label']==s],\n",
        "                Filter.Temperature[Filter['Label']==s], label=predict_result[s])\n",
        "\n",
        "  ax.legend()"
      ],
      "metadata": {
        "id": "iB6psqDMrd7V"
      },
      "execution_count": null,
      "outputs": []
    },
    {
      "cell_type": "code",
      "execution_count": null,
      "metadata": {
        "id": "XYZ7MSM8n-Bd",
        "outputId": "6fadce4d-5899-45e9-a11c-98fd5f15d760",
        "colab": {
          "base_uri": "https://localhost:8080/",
          "height": 518
        }
      },
      "outputs": [
        {
          "name": "stdout",
          "output_type": "stream",
          "text": [
            "N_ser: 4\n",
            "N_par: 3\n",
            "Irradiance: 800\n"
          ]
        },
        {
          "output_type": "display_data",
          "data": {
            "text/plain": [
              "<Figure size 576x576 with 1 Axes>"
            ],
            "image/png": "[encoded data removed]"
          },
          "metadata": {
            "needs_background": "light"
          }
        }
      ],
      "source": [
        "show_plot(int(input(\"N_ser: \")), int(input(\"N_par: \")), int(input(\"Irradiance: \")))"
      ]
    },
    {
      "cell_type": "code",
      "execution_count": null,
      "metadata": {
        "id": "Xg63eoIZtEEQ"
      },
      "outputs": [],
      "source": [
        "# Spliting the dataset into train and test\n",
        "X_train, X_test, Y_train, Y_test = train_test_split(X, Y, test_size = 0.2, random_state = 100)"
      ]
    },
    {
      "cell_type": "code",
      "execution_count": null,
      "metadata": {
        "id": "AcQnuu_5tEES",
        "outputId": "cc74f5ea-c599-41c1-8402-1a6b81dff170",
        "colab": {
          "base_uri": "https://localhost:8080/"
        }
      },
      "outputs": [
        {
          "output_type": "execute_result",
          "data": {
            "text/plain": [
              "(1056, 6)"
            ]
          },
          "metadata": {},
          "execution_count": 12
        }
      ],
      "source": [
        "X_train.shape"
      ]
    },
    {
      "cell_type": "code",
      "execution_count": null,
      "metadata": {
        "id": "nK4vke-3tEET",
        "outputId": "c1fcb44d-7b33-4944-9179-8069f1328bb4",
        "colab": {
          "base_uri": "https://localhost:8080/"
        }
      },
      "outputs": [
        {
          "output_type": "execute_result",
          "data": {
            "text/plain": [
              "(264, 6)"
            ]
          },
          "metadata": {},
          "execution_count": 13
        }
      ],
      "source": [
        "X_test.shape"
      ]
    },
    {
      "cell_type": "code",
      "execution_count": null,
      "metadata": {
        "id": "f0VXp3w9gnpZ"
      },
      "outputs": [],
      "source": [
        "train_accuracies, test_accuracies = [] ,[]"
      ]
    },
    {
      "cell_type": "code",
      "source": [
        "def train_the_model(model, x_train, y_train, x_test, y_test):\n",
        "  model.fit(X_train,Y_train)\n",
        "  train_predictions = model.predict(X_train)\n",
        "  test_predictions = model.predict(X_test)\n",
        "  train_accuracies.append(accuracy_score(Y_train, train_predictions)*100)\n",
        "  test_accuracies.append(accuracy_score(Y_test, test_predictions)*100)\n",
        "  print (\"Training Accuracy : \", train_accuracies[-1])\n",
        "  print (\"Testing Accuracy : \", test_accuracies[-1])"
      ],
      "metadata": {
        "id": "7_6xsErKstXT"
      },
      "execution_count": null,
      "outputs": []
    },
    {
      "cell_type": "code",
      "execution_count": null,
      "metadata": {
        "id": "hlV2G9DHoF5j",
        "outputId": "195c31f5-cdba-4c9c-fb15-31dff696f071",
        "colab": {
          "base_uri": "https://localhost:8080/"
        }
      },
      "outputs": [
        {
          "output_type": "stream",
          "name": "stdout",
          "text": [
            "Training Accuracy :  69.6969696969697\n",
            "Testing Accuracy :  66.28787878787878\n"
          ]
        }
      ],
      "source": [
        "# SVM Result\n",
        "\n",
        "train_the_model(SVC(), X_train, Y_train, X_test, Y_test)"
      ]
    },
    {
      "cell_type": "code",
      "execution_count": null,
      "metadata": {
        "id": "L1yF66BHobP4",
        "outputId": "f0822827-7f97-4c7d-8065-5f88f9eb2b1e",
        "colab": {
          "base_uri": "https://localhost:8080/"
        }
      },
      "outputs": [
        {
          "output_type": "stream",
          "name": "stdout",
          "text": [
            "Training Accuracy :  69.6969696969697\n",
            "Testing Accuracy :  66.28787878787878\n"
          ]
        }
      ],
      "source": [
        "# SVM Result after hyper-tuning\n",
        "\n",
        "params = {'kernel': ['rbf', 'poly', 'sigmoid']}\n",
        "grid_search_cv = GridSearchCV(SVC(random_state=100), params)\n",
        "grid_search_cv.fit(X_train, Y_train)\n",
        "svm = grid_search_cv.best_estimator_\n",
        "train_the_model(svm, X_train, Y_train, X_test, Y_test)"
      ]
    },
    {
      "cell_type": "code",
      "execution_count": null,
      "metadata": {
        "id": "JrXEKiBnI5et",
        "outputId": "c5b5cf58-9b1c-47ba-9787-26f30e41ca52",
        "colab": {
          "base_uri": "https://localhost:8080/"
        }
      },
      "outputs": [
        {
          "output_type": "stream",
          "name": "stdout",
          "text": [
            "Training Accuracy :  85.03787878787878\n",
            "Testing Accuracy :  69.6969696969697\n"
          ]
        }
      ],
      "source": [
        "# KNN Result\n",
        "\n",
        "train_the_model(KNeighborsClassifier(), X_train, Y_train, X_test, Y_test)"
      ]
    },
    {
      "cell_type": "code",
      "execution_count": null,
      "metadata": {
        "id": "nMOliY2lJbUm",
        "outputId": "410bbdf8-e65a-4d0f-f23a-0eb18394844e",
        "colab": {
          "base_uri": "https://localhost:8080/"
        }
      },
      "outputs": [
        {
          "output_type": "stream",
          "name": "stdout",
          "text": [
            "Training Accuracy :  82.95454545454545\n",
            "Testing Accuracy :  71.5909090909091\n"
          ]
        }
      ],
      "source": [
        "# KNN Result after hyper-tuning\n",
        "\n",
        "params = {'n_neighbors': list(range(7, 16)),\n",
        "          'weights': ['uniform', 'distance'],\n",
        "          'algorithm':['auto', 'ball_tree', 'kd_tree', 'brute']}\n",
        "grid_search_cv = GridSearchCV(KNeighborsClassifier(p=1), params)\n",
        "grid_search_cv.fit(X_train, Y_train)\n",
        "knn = grid_search_cv.best_estimator_\n",
        "train_the_model(knn, X_train, Y_train, X_test, Y_test)"
      ]
    },
    {
      "cell_type": "code",
      "execution_count": null,
      "metadata": {
        "id": "p7spWzrBKzzt",
        "outputId": "ef88b2b4-c6df-4dc2-8dae-0cd8482723c5",
        "colab": {
          "base_uri": "https://localhost:8080/"
        }
      },
      "outputs": [
        {
          "output_type": "stream",
          "name": "stdout",
          "text": [
            "Training Accuracy :  100.0\n",
            "Testing Accuracy :  83.71212121212122\n"
          ]
        }
      ],
      "source": [
        "# Decision Tree Result\n",
        "\n",
        "train_the_model(DecisionTreeClassifier(), X_train, Y_train, X_test, Y_test)"
      ]
    },
    {
      "cell_type": "code",
      "execution_count": null,
      "metadata": {
        "id": "ZHoSaXBnLhrD",
        "outputId": "9e5c20b9-dece-4160-eaaa-7eb5aeee0c26",
        "colab": {
          "base_uri": "https://localhost:8080/"
        }
      },
      "outputs": [
        {
          "output_type": "stream",
          "name": "stdout",
          "text": [
            "Training Accuracy :  100.0\n",
            "Testing Accuracy :  84.0909090909091\n"
          ]
        }
      ],
      "source": [
        "# Decision Tree Result after hyper-tuning\n",
        "\n",
        "params = {'criterion':['gini', 'entropy'],\n",
        "          'splitter':['best', 'random'],\n",
        "          'max_features':['auto', 'sqrt', 'log2']}\n",
        "grid_search_cv = GridSearchCV(DecisionTreeClassifier(), params)\n",
        "grid_search_cv.fit(X_train, Y_train)\n",
        "decision_tree = grid_search_cv.best_estimator_\n",
        "train_the_model(decision_tree, X_train, Y_train, X_test, Y_test)"
      ]
    },
    {
      "cell_type": "code",
      "execution_count": null,
      "metadata": {
        "id": "phg8MQ-UMwou",
        "outputId": "37f381ed-b095-4a1b-c123-578f401c82f5",
        "colab": {
          "base_uri": "https://localhost:8080/"
        }
      },
      "outputs": [
        {
          "output_type": "stream",
          "name": "stdout",
          "text": [
            "Training Accuracy :  100.0\n",
            "Testing Accuracy :  80.68181818181817\n"
          ]
        }
      ],
      "source": [
        "# Random Forest Result\n",
        "\n",
        "train_the_model(RandomForestClassifier(), X_train, Y_train, X_test, Y_test)"
      ]
    },
    {
      "cell_type": "code",
      "execution_count": null,
      "metadata": {
        "id": "A5YAEXusNEGu",
        "outputId": "627fac63-8102-4d46-dc5e-d1c56aab7af5",
        "colab": {
          "base_uri": "https://localhost:8080/"
        }
      },
      "outputs": [
        {
          "output_type": "stream",
          "name": "stdout",
          "text": [
            "Training Accuracy :  100.0\n",
            "Testing Accuracy :  81.81818181818183\n"
          ]
        }
      ],
      "source": [
        "# Random Forest Result after hyper-tuning\n",
        "\n",
        "params = {'criterion': ['gini', 'entropy'],\n",
        "          'max_features':['auto', 'sqrt', 'log2']}\n",
        "grid_search_cv = GridSearchCV(RandomForestClassifier(), params)\n",
        "grid_search_cv.fit(X_train, Y_train)\n",
        "random_forest = grid_search_cv.best_estimator_\n",
        "train_the_model(random_forest, X_train, Y_train, X_test, Y_test)"
      ]
    },
    {
      "cell_type": "code",
      "execution_count": null,
      "metadata": {
        "id": "pq8yYrCEf4HI",
        "outputId": "f03eb452-d31a-4727-9f26-3ad40faae9ab",
        "colab": {
          "base_uri": "https://localhost:8080/",
          "height": 379
        }
      },
      "outputs": [
        {
          "output_type": "display_data",
          "data": {
            "text/plain": [
              "<Figure size 432x288 with 1 Axes>"
            ],
            "image/png": "[encoded data removed]"
          },
          "metadata": {
            "needs_background": "light"
          }
        }
      ],
      "source": [
        "# Accuracy Comparision\n",
        "\n",
        "labels = [\"SVM\", \"SVM Tuned\", \"KNN\", \"KNN Tuned\",\n",
        "          \"Decision Tree\", \"Desision Tree Tuned\",\n",
        "          \"Random Forest\", \"Random Forest Tuned\"]\n",
        "x = np.arange(len(labels))\n",
        "width = 0.35\n",
        "\n",
        "fig, ax = plt.subplots()\n",
        "rects1 = ax.bar(x - width/2, train_accuracies, width, label='Train')\n",
        "rects2 = ax.bar(x + width/2, test_accuracies, width, label='Test')\n",
        "\n",
        "ax.set_ylabel('Accuracy')\n",
        "ax.set_title('Accuracies of Models')\n",
        "ax.set_xticks(x)\n",
        "\n",
        "ax.set_xticklabels(labels, rotation=90)\n",
        "ax.legend()\n",
        "ax.set_ylim()\n",
        "plt.show()"
      ]
    },
    {
      "cell_type": "code",
      "execution_count": null,
      "metadata": {
        "id": "vn6EOqsZtEEg",
        "colab": {
          "base_uri": "https://localhost:8080/"
        },
        "outputId": "46d42516-c16a-481b-a255-3115b6de5586"
      },
      "outputs": [
        {
          "name": "stdout",
          "output_type": "stream",
          "text": [
            "Nser: 4\n",
            "Npar: 3\n",
            "Irradiance: 500\n",
            "Temperature: 60\n",
            "Voltage: 49\n",
            "Current: 6\n"
          ]
        }
      ],
      "source": [
        "3\n",
        "# Testing with custom value\n",
        "Nser = int(input(\"Nser: \"))\n",
        "Npar = int(input(\"Npar: \"))\n",
        "irr = float(input(\"Irradiance: \"))\n",
        "temp = float(input(\"Temperature: \"))\n",
        "voltage = float(input(\"Voltage: \"))\n",
        "current = float(input(\"Current: \"))\n",
        "test_ip = [[Nser, Npar, irr, temp, voltage, current]]"
      ]
    },
    {
      "cell_type": "code",
      "execution_count": null,
      "metadata": {
        "id": "65DJV75ltEEi",
        "outputId": "7a8262de-463d-4921-d993-502dd30f4c10",
        "colab": {
          "base_uri": "https://localhost:8080/"
        }
      },
      "outputs": [
        {
          "output_type": "stream",
          "name": "stdout",
          "text": [
            "Open Circuit\n"
          ]
        }
      ],
      "source": [
        "# SVM Prediction\n",
        "test_pred = svm.predict(test_ip)\n",
        "print(predict_result[test_pred[0]])"
      ]
    },
    {
      "cell_type": "code",
      "execution_count": null,
      "metadata": {
        "id": "QlMiyZtbtEEm",
        "outputId": "95b9b476-e135-49d2-ded6-c90dc5841e77",
        "colab": {
          "base_uri": "https://localhost:8080/"
        }
      },
      "outputs": [
        {
          "output_type": "stream",
          "name": "stdout",
          "text": [
            "Open Circuit\n"
          ]
        }
      ],
      "source": [
        "# KNN Prediction\n",
        "test_pred = knn.predict(test_ip)\n",
        "print(predict_result[test_pred[0]])"
      ]
    },
    {
      "cell_type": "code",
      "execution_count": null,
      "metadata": {
        "id": "f5TF8S1jtEEl",
        "outputId": "2d12ca98-8ba6-4759-ca38-b514569e0275",
        "colab": {
          "base_uri": "https://localhost:8080/"
        }
      },
      "outputs": [
        {
          "output_type": "stream",
          "name": "stdout",
          "text": [
            "Open Circuit\n"
          ]
        }
      ],
      "source": [
        "# Decision Tree Prediction\n",
        "test_pred = decision_tree.predict(test_ip)\n",
        "print(predict_result[test_pred[0]])"
      ]
    },
    {
      "cell_type": "code",
      "execution_count": null,
      "metadata": {
        "id": "Ug9rAY4DtEEm",
        "outputId": "5cecccc7-230a-464b-a7b9-dd0738aeb685",
        "colab": {
          "base_uri": "https://localhost:8080/"
        }
      },
      "outputs": [
        {
          "output_type": "stream",
          "name": "stdout",
          "text": [
            "Open Circuit\n"
          ]
        }
      ],
      "source": [
        "# Random Forest Prediction\n",
        "test_pred = random_forest.predict(test_ip)\n",
        "print(predict_result[test_pred[0]])"
      ]
    }
  ],
  "metadata": {
    "colab": {
      "provenance": [],
      "include_colab_link": true
    },
    "kernelspec": {
      "display_name": "Python 3 (ipykernel)",
      "language": "python",
      "name": "python3"
    },
    "language_info": {
      "codemirror_mode": {
        "name": "ipython",
        "version": 3
      },
      "file_extension": ".py",
      "mimetype": "text/x-python",
      "name": "python",
      "nbconvert_exporter": "python",
      "pygments_lexer": "ipython3",
      "version": "3.9.7"
    }
  },
  "nbformat": 4,
  "nbformat_minor": 0
}